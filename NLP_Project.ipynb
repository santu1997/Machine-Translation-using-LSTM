{
  "nbformat": 4,
  "nbformat_minor": 0,
  "metadata": {
    "colab": {
      "name": "NLP_Project (1).ipynb",
      "provenance": []
    },
    "kernelspec": {
      "display_name": "Python 3",
      "language": "python",
      "name": "python3"
    },
    "language_info": {
      "codemirror_mode": {
        "name": "ipython",
        "version": 3
      },
      "file_extension": ".py",
      "mimetype": "text/x-python",
      "name": "python",
      "nbconvert_exporter": "python",
      "pygments_lexer": "ipython3",
      "version": "3.5.3"
    }
  },
  "cells": [
    {
      "cell_type": "code",
      "metadata": {
        "colab_type": "code",
        "id": "HA5YSpmW1C3Y",
        "colab": {}
      },
      "source": [
        "%tensorflow_version 1.x"
      ],
      "execution_count": 0,
      "outputs": []
    },
    {
      "cell_type": "code",
      "metadata": {
        "colab_type": "code",
        "id": "TP_6ymfW1FU5",
        "colab": {}
      },
      "source": [
        "from google.colab import drive\n",
        "drive.mount('/content/drive')"
      ],
      "execution_count": 0,
      "outputs": []
    },
    {
      "cell_type": "code",
      "metadata": {
        "colab_type": "code",
        "id": "et03_aLH1HMG",
        "colab": {},
        "outputId": "42ae2e54-3a0c-4c06-814f-42e0f9b16491"
      },
      "source": [
        "import numpy as np\n",
        "import pandas as pd\n",
        "import os\n",
        "import string\n",
        "from string import digits\n",
        "import matplotlib.pyplot as plt\n",
        "%matplotlib inline\n",
        "import re\n",
        "\n",
        "from sklearn.utils import shuffle\n",
        "from sklearn.model_selection import train_test_split\n",
        "from keras.layers import Input, LSTM, Embedding, Dense\n",
        "from keras.models import Model\n"
      ],
      "execution_count": 0,
      "outputs": [
        {
          "output_type": "stream",
          "text": [
            "Using TensorFlow backend.\n"
          ],
          "name": "stderr"
        }
      ]
    },
    {
      "cell_type": "code",
      "metadata": {
        "colab_type": "code",
        "id": "sEXFc4_N1RRi",
        "colab": {}
      },
      "source": [
        "dataset = pd.read_csv('/home/chandunagendramurthy/projects/hindencorp05.tsv', sep='\\t', encoding = 'utf-8')"
      ],
      "execution_count": 0,
      "outputs": []
    },
    {
      "cell_type": "code",
      "metadata": {
        "colab_type": "code",
        "id": "kMUQEtQA1ohI",
        "outputId": "968f7bf3-de8e-4385-d4cf-2b999aec28a1",
        "colab": {
          "base_uri": "https://localhost:8080/",
          "height": 202
        }
      },
      "source": [
        "dataset.head()"
      ],
      "execution_count": 0,
      "outputs": [
        {
          "output_type": "execute_result",
          "data": {
            "text/html": [
              "<div>\n",
              "<style scoped>\n",
              "    .dataframe tbody tr th:only-of-type {\n",
              "        vertical-align: middle;\n",
              "    }\n",
              "\n",
              "    .dataframe tbody tr th {\n",
              "        vertical-align: top;\n",
              "    }\n",
              "\n",
              "    .dataframe thead th {\n",
              "        text-align: right;\n",
              "    }\n",
              "</style>\n",
              "<table border=\"1\" class=\"dataframe\">\n",
              "  <thead>\n",
              "    <tr style=\"text-align: right;\">\n",
              "      <th></th>\n",
              "      <th>wikiner2013inflected</th>\n",
              "      <th>1-1</th>\n",
              "      <th>1.000</th>\n",
              "      <th>Sharaabi</th>\n",
              "      <th>शराबी</th>\n",
              "    </tr>\n",
              "  </thead>\n",
              "  <tbody>\n",
              "    <tr>\n",
              "      <th>0</th>\n",
              "      <td>ted</td>\n",
              "      <td>1-1</td>\n",
              "      <td>1.0</td>\n",
              "      <td>politicians do not have permission to do what ...</td>\n",
              "      <td>राजनीतिज्ञों के पास जो कार्य करना चाहिए, वह कर...</td>\n",
              "    </tr>\n",
              "    <tr>\n",
              "      <th>1</th>\n",
              "      <td>ted</td>\n",
              "      <td>1-1</td>\n",
              "      <td>1.0</td>\n",
              "      <td>I'd like to tell you about one such child,</td>\n",
              "      <td>मई आपको ऐसे ही एक बच्चे के बारे में बताना चाहू...</td>\n",
              "    </tr>\n",
              "    <tr>\n",
              "      <th>2</th>\n",
              "      <td>indic2012</td>\n",
              "      <td>1-1</td>\n",
              "      <td>manual</td>\n",
              "      <td>This percentage is even greater than the perce...</td>\n",
              "      <td>यह प्रतिशत भारत में हिन्दुओं प्रतिशत से अधिक है।</td>\n",
              "    </tr>\n",
              "    <tr>\n",
              "      <th>3</th>\n",
              "      <td>quote-name</td>\n",
              "      <td>1-1</td>\n",
              "      <td>1.0</td>\n",
              "      <td>- John Collins</td>\n",
              "      <td>- जॉन कॉलिन्स</td>\n",
              "    </tr>\n",
              "    <tr>\n",
              "      <th>4</th>\n",
              "      <td>ted</td>\n",
              "      <td>1-1</td>\n",
              "      <td>1.0</td>\n",
              "      <td>what we really mean is that they're bad at not...</td>\n",
              "      <td>हम ये नहीं कहना चाहते कि वो ध्यान नहीं दे पाते</td>\n",
              "    </tr>\n",
              "  </tbody>\n",
              "</table>\n",
              "</div>"
            ],
            "text/plain": [
              "  wikiner2013inflected  1-1   1.000  \\\n",
              "0                  ted  1-1     1.0   \n",
              "1                  ted  1-1     1.0   \n",
              "2            indic2012  1-1  manual   \n",
              "3           quote-name  1-1     1.0   \n",
              "4                  ted  1-1     1.0   \n",
              "\n",
              "                                            Sharaabi  \\\n",
              "0  politicians do not have permission to do what ...   \n",
              "1         I'd like to tell you about one such child,   \n",
              "2  This percentage is even greater than the perce...   \n",
              "3                                     - John Collins   \n",
              "4  what we really mean is that they're bad at not...   \n",
              "\n",
              "                                               शराबी  \n",
              "0  राजनीतिज्ञों के पास जो कार्य करना चाहिए, वह कर...  \n",
              "1  मई आपको ऐसे ही एक बच्चे के बारे में बताना चाहू...  \n",
              "2   यह प्रतिशत भारत में हिन्दुओं प्रतिशत से अधिक है।  \n",
              "3                                      - जॉन कॉलिन्स  \n",
              "4     हम ये नहीं कहना चाहते कि वो ध्यान नहीं दे पाते  "
            ]
          },
          "metadata": {
            "tags": []
          },
          "execution_count": 3
        }
      ]
    },
    {
      "cell_type": "code",
      "metadata": {
        "colab_type": "code",
        "id": "bjNVjKFC1UGd",
        "outputId": "6385eb4b-39b5-4f3f-f19f-24c8ad57226e",
        "colab": {
          "base_uri": "https://localhost:8080/",
          "height": 312
        }
      },
      "source": [
        "set(dataset['wikiner2013inflected'])"
      ],
      "execution_count": 0,
      "outputs": [
        {
          "output_type": "execute_result",
          "data": {
            "text/plain": [
              "{'acl2005',\n",
              " 'agro-exact',\n",
              " 'agro-hunaligned',\n",
              " 'danielpipes',\n",
              " 'emille',\n",
              " 'indic2012',\n",
              " 'intercorp',\n",
              " 'launchpad',\n",
              " 'quote-name',\n",
              " 'quote-sent',\n",
              " 'ted',\n",
              " 'tides',\n",
              " 'wikiner2011',\n",
              " 'wikiner2013',\n",
              " 'wikiner2013inflected',\n",
              " 'words-example',\n",
              " 'words-word'}"
            ]
          },
          "metadata": {
            "tags": []
          },
          "execution_count": 4
        }
      ]
    },
    {
      "cell_type": "code",
      "metadata": {
        "colab_type": "code",
        "id": "4qSFm3LCBNKE",
        "outputId": "02f224f2-2182-44f2-d4b9-1c0994e78062",
        "colab": {
          "base_uri": "https://localhost:8080/",
          "height": 202
        }
      },
      "source": [
        "dataset = dataset[dataset['wikiner2013inflected']=='ted']\n",
        "dataset.head()"
      ],
      "execution_count": 0,
      "outputs": [
        {
          "output_type": "execute_result",
          "data": {
            "text/html": [
              "<div>\n",
              "<style scoped>\n",
              "    .dataframe tbody tr th:only-of-type {\n",
              "        vertical-align: middle;\n",
              "    }\n",
              "\n",
              "    .dataframe tbody tr th {\n",
              "        vertical-align: top;\n",
              "    }\n",
              "\n",
              "    .dataframe thead th {\n",
              "        text-align: right;\n",
              "    }\n",
              "</style>\n",
              "<table border=\"1\" class=\"dataframe\">\n",
              "  <thead>\n",
              "    <tr style=\"text-align: right;\">\n",
              "      <th></th>\n",
              "      <th>wikiner2013inflected</th>\n",
              "      <th>1-1</th>\n",
              "      <th>1.000</th>\n",
              "      <th>Sharaabi</th>\n",
              "      <th>शराबी</th>\n",
              "    </tr>\n",
              "  </thead>\n",
              "  <tbody>\n",
              "    <tr>\n",
              "      <th>0</th>\n",
              "      <td>ted</td>\n",
              "      <td>1-1</td>\n",
              "      <td>1.0</td>\n",
              "      <td>politicians do not have permission to do what ...</td>\n",
              "      <td>राजनीतिज्ञों के पास जो कार्य करना चाहिए, वह कर...</td>\n",
              "    </tr>\n",
              "    <tr>\n",
              "      <th>1</th>\n",
              "      <td>ted</td>\n",
              "      <td>1-1</td>\n",
              "      <td>1.0</td>\n",
              "      <td>I'd like to tell you about one such child,</td>\n",
              "      <td>मई आपको ऐसे ही एक बच्चे के बारे में बताना चाहू...</td>\n",
              "    </tr>\n",
              "    <tr>\n",
              "      <th>4</th>\n",
              "      <td>ted</td>\n",
              "      <td>1-1</td>\n",
              "      <td>1.0</td>\n",
              "      <td>what we really mean is that they're bad at not...</td>\n",
              "      <td>हम ये नहीं कहना चाहते कि वो ध्यान नहीं दे पाते</td>\n",
              "    </tr>\n",
              "    <tr>\n",
              "      <th>18</th>\n",
              "      <td>ted</td>\n",
              "      <td>1-1</td>\n",
              "      <td>1.0</td>\n",
              "      <td>And who are we to say, even, that they are wrong</td>\n",
              "      <td>और हम होते कौन हैं यह कहने भी वाले कि वे गलत हैं</td>\n",
              "    </tr>\n",
              "    <tr>\n",
              "      <th>29</th>\n",
              "      <td>ted</td>\n",
              "      <td>1-1</td>\n",
              "      <td>1.0</td>\n",
              "      <td>So there is some sort of justice</td>\n",
              "      <td>तो वहाँ न्याय है</td>\n",
              "    </tr>\n",
              "  </tbody>\n",
              "</table>\n",
              "</div>"
            ],
            "text/plain": [
              "   wikiner2013inflected  1-1 1.000  \\\n",
              "0                   ted  1-1   1.0   \n",
              "1                   ted  1-1   1.0   \n",
              "4                   ted  1-1   1.0   \n",
              "18                  ted  1-1   1.0   \n",
              "29                  ted  1-1   1.0   \n",
              "\n",
              "                                             Sharaabi  \\\n",
              "0   politicians do not have permission to do what ...   \n",
              "1          I'd like to tell you about one such child,   \n",
              "4   what we really mean is that they're bad at not...   \n",
              "18   And who are we to say, even, that they are wrong   \n",
              "29                   So there is some sort of justice   \n",
              "\n",
              "                                                शराबी  \n",
              "0   राजनीतिज्ञों के पास जो कार्य करना चाहिए, वह कर...  \n",
              "1   मई आपको ऐसे ही एक बच्चे के बारे में बताना चाहू...  \n",
              "4      हम ये नहीं कहना चाहते कि वो ध्यान नहीं दे पाते  \n",
              "18   और हम होते कौन हैं यह कहने भी वाले कि वे गलत हैं  \n",
              "29                                   तो वहाँ न्याय है  "
            ]
          },
          "metadata": {
            "tags": []
          },
          "execution_count": 5
        }
      ]
    },
    {
      "cell_type": "code",
      "metadata": {
        "colab_type": "code",
        "id": "zJoBUfbiAKNc",
        "outputId": "0a8c1a27-0890-4db4-ca01-9cef249e8545",
        "colab": {
          "base_uri": "https://localhost:8080/",
          "height": 202
        }
      },
      "source": [
        "dataset.drop(columns= ['wikiner2013inflected','1-1', '1.000'], inplace = True)\n",
        "dataset.head()"
      ],
      "execution_count": 0,
      "outputs": [
        {
          "output_type": "execute_result",
          "data": {
            "text/html": [
              "<div>\n",
              "<style scoped>\n",
              "    .dataframe tbody tr th:only-of-type {\n",
              "        vertical-align: middle;\n",
              "    }\n",
              "\n",
              "    .dataframe tbody tr th {\n",
              "        vertical-align: top;\n",
              "    }\n",
              "\n",
              "    .dataframe thead th {\n",
              "        text-align: right;\n",
              "    }\n",
              "</style>\n",
              "<table border=\"1\" class=\"dataframe\">\n",
              "  <thead>\n",
              "    <tr style=\"text-align: right;\">\n",
              "      <th></th>\n",
              "      <th>Sharaabi</th>\n",
              "      <th>शराबी</th>\n",
              "    </tr>\n",
              "  </thead>\n",
              "  <tbody>\n",
              "    <tr>\n",
              "      <th>0</th>\n",
              "      <td>politicians do not have permission to do what ...</td>\n",
              "      <td>राजनीतिज्ञों के पास जो कार्य करना चाहिए, वह कर...</td>\n",
              "    </tr>\n",
              "    <tr>\n",
              "      <th>1</th>\n",
              "      <td>I'd like to tell you about one such child,</td>\n",
              "      <td>मई आपको ऐसे ही एक बच्चे के बारे में बताना चाहू...</td>\n",
              "    </tr>\n",
              "    <tr>\n",
              "      <th>4</th>\n",
              "      <td>what we really mean is that they're bad at not...</td>\n",
              "      <td>हम ये नहीं कहना चाहते कि वो ध्यान नहीं दे पाते</td>\n",
              "    </tr>\n",
              "    <tr>\n",
              "      <th>18</th>\n",
              "      <td>And who are we to say, even, that they are wrong</td>\n",
              "      <td>और हम होते कौन हैं यह कहने भी वाले कि वे गलत हैं</td>\n",
              "    </tr>\n",
              "    <tr>\n",
              "      <th>29</th>\n",
              "      <td>So there is some sort of justice</td>\n",
              "      <td>तो वहाँ न्याय है</td>\n",
              "    </tr>\n",
              "  </tbody>\n",
              "</table>\n",
              "</div>"
            ],
            "text/plain": [
              "                                             Sharaabi  \\\n",
              "0   politicians do not have permission to do what ...   \n",
              "1          I'd like to tell you about one such child,   \n",
              "4   what we really mean is that they're bad at not...   \n",
              "18   And who are we to say, even, that they are wrong   \n",
              "29                   So there is some sort of justice   \n",
              "\n",
              "                                                शराबी  \n",
              "0   राजनीतिज्ञों के पास जो कार्य करना चाहिए, वह कर...  \n",
              "1   मई आपको ऐसे ही एक बच्चे के बारे में बताना चाहू...  \n",
              "4      हम ये नहीं कहना चाहते कि वो ध्यान नहीं दे पाते  \n",
              "18   और हम होते कौन हैं यह कहने भी वाले कि वे गलत हैं  \n",
              "29                                   तो वहाँ न्याय है  "
            ]
          },
          "metadata": {
            "tags": []
          },
          "execution_count": 6
        }
      ]
    },
    {
      "cell_type": "code",
      "metadata": {
        "colab_type": "code",
        "id": "pV0Il65pA8yP",
        "outputId": "5ebbcc67-245e-4db6-8895-d0fd8eab4749",
        "colab": {
          "base_uri": "https://localhost:8080/",
          "height": 202
        }
      },
      "source": [
        "dataset.columns = ['english', 'hindi']\n",
        "dataset.head()"
      ],
      "execution_count": 0,
      "outputs": [
        {
          "output_type": "execute_result",
          "data": {
            "text/html": [
              "<div>\n",
              "<style scoped>\n",
              "    .dataframe tbody tr th:only-of-type {\n",
              "        vertical-align: middle;\n",
              "    }\n",
              "\n",
              "    .dataframe tbody tr th {\n",
              "        vertical-align: top;\n",
              "    }\n",
              "\n",
              "    .dataframe thead th {\n",
              "        text-align: right;\n",
              "    }\n",
              "</style>\n",
              "<table border=\"1\" class=\"dataframe\">\n",
              "  <thead>\n",
              "    <tr style=\"text-align: right;\">\n",
              "      <th></th>\n",
              "      <th>english</th>\n",
              "      <th>hindi</th>\n",
              "    </tr>\n",
              "  </thead>\n",
              "  <tbody>\n",
              "    <tr>\n",
              "      <th>0</th>\n",
              "      <td>politicians do not have permission to do what ...</td>\n",
              "      <td>राजनीतिज्ञों के पास जो कार्य करना चाहिए, वह कर...</td>\n",
              "    </tr>\n",
              "    <tr>\n",
              "      <th>1</th>\n",
              "      <td>I'd like to tell you about one such child,</td>\n",
              "      <td>मई आपको ऐसे ही एक बच्चे के बारे में बताना चाहू...</td>\n",
              "    </tr>\n",
              "    <tr>\n",
              "      <th>4</th>\n",
              "      <td>what we really mean is that they're bad at not...</td>\n",
              "      <td>हम ये नहीं कहना चाहते कि वो ध्यान नहीं दे पाते</td>\n",
              "    </tr>\n",
              "    <tr>\n",
              "      <th>18</th>\n",
              "      <td>And who are we to say, even, that they are wrong</td>\n",
              "      <td>और हम होते कौन हैं यह कहने भी वाले कि वे गलत हैं</td>\n",
              "    </tr>\n",
              "    <tr>\n",
              "      <th>29</th>\n",
              "      <td>So there is some sort of justice</td>\n",
              "      <td>तो वहाँ न्याय है</td>\n",
              "    </tr>\n",
              "  </tbody>\n",
              "</table>\n",
              "</div>"
            ],
            "text/plain": [
              "                                              english  \\\n",
              "0   politicians do not have permission to do what ...   \n",
              "1          I'd like to tell you about one such child,   \n",
              "4   what we really mean is that they're bad at not...   \n",
              "18   And who are we to say, even, that they are wrong   \n",
              "29                   So there is some sort of justice   \n",
              "\n",
              "                                                hindi  \n",
              "0   राजनीतिज्ञों के पास जो कार्य करना चाहिए, वह कर...  \n",
              "1   मई आपको ऐसे ही एक बच्चे के बारे में बताना चाहू...  \n",
              "4      हम ये नहीं कहना चाहते कि वो ध्यान नहीं दे पाते  \n",
              "18   और हम होते कौन हैं यह कहने भी वाले कि वे गलत हैं  \n",
              "29                                   तो वहाँ न्याय है  "
            ]
          },
          "metadata": {
            "tags": []
          },
          "execution_count": 7
        }
      ]
    },
    {
      "cell_type": "code",
      "metadata": {
        "colab_type": "code",
        "id": "Bw_8B3-d1nPG",
        "colab": {}
      },
      "source": [
        "dataset.dropna(inplace=True)"
      ],
      "execution_count": 0,
      "outputs": []
    },
    {
      "cell_type": "code",
      "metadata": {
        "colab_type": "code",
        "id": "X8xECrar1xLp",
        "colab": {}
      },
      "source": [
        "dataset.drop_duplicates(inplace=True)"
      ],
      "execution_count": 0,
      "outputs": []
    },
    {
      "cell_type": "code",
      "metadata": {
        "colab_type": "code",
        "id": "imH6e-pACZLR",
        "colab": {}
      },
      "source": [
        "punctuations = set(string.punctuation)\n",
        "# Preprocess the sentences by removing punctuations and digits and extra spaces\n",
        "def preprocess_text(sentence):\n",
        "  sentence = sentence.strip()\n",
        "\n",
        "  sentence = sentence.lower()\n",
        "\n",
        "  sentence = ''.join(ch for ch in sentence if ch not in punctuations)\n",
        "\n",
        "  sentence = re.sub('\\d+', '', sentence)\n",
        "  sentence = re.sub('[२३०८१५७९४६]', '', sentence)\n",
        "\n",
        "  sentence = re.sub(\" +\", \" \", sentence)\n",
        "  return sentence"
      ],
      "execution_count": 0,
      "outputs": []
    },
    {
      "cell_type": "code",
      "metadata": {
        "colab_type": "code",
        "id": "ZjfsmZotCzu-",
        "colab": {}
      },
      "source": [
        "# Preprocessing of the sentences\n",
        "for index, row in dataset.iterrows():\n",
        "  input_text = row['english']\n",
        "  target_text = row['hindi']\n",
        "\n",
        "  input_text = preprocess_text(input_text)\n",
        "  target_text = preprocess_text(target_text)\n",
        "\n",
        "  target_text = 'START_ ' + target_text + ' _END'\n",
        "  \n",
        "  dataset['english'][index] = input_text\n",
        "  dataset['hindi'][index] = target_text"
      ],
      "execution_count": 0,
      "outputs": []
    },
    {
      "cell_type": "code",
      "metadata": {
        "colab_type": "code",
        "id": "anmKoZgO5MS1",
        "outputId": "091f0276-4991-4115-b84e-9181eac16c22",
        "colab": {
          "base_uri": "https://localhost:8080/",
          "height": 202
        }
      },
      "source": [
        "dataset.head()"
      ],
      "execution_count": 0,
      "outputs": [
        {
          "output_type": "execute_result",
          "data": {
            "text/html": [
              "<div>\n",
              "<style scoped>\n",
              "    .dataframe tbody tr th:only-of-type {\n",
              "        vertical-align: middle;\n",
              "    }\n",
              "\n",
              "    .dataframe tbody tr th {\n",
              "        vertical-align: top;\n",
              "    }\n",
              "\n",
              "    .dataframe thead th {\n",
              "        text-align: right;\n",
              "    }\n",
              "</style>\n",
              "<table border=\"1\" class=\"dataframe\">\n",
              "  <thead>\n",
              "    <tr style=\"text-align: right;\">\n",
              "      <th></th>\n",
              "      <th>english</th>\n",
              "      <th>hindi</th>\n",
              "    </tr>\n",
              "  </thead>\n",
              "  <tbody>\n",
              "    <tr>\n",
              "      <th>0</th>\n",
              "      <td>politicians do not have permission to do what ...</td>\n",
              "      <td>START_ राजनीतिज्ञों के पास जो कार्य करना चाहिए...</td>\n",
              "    </tr>\n",
              "    <tr>\n",
              "      <th>1</th>\n",
              "      <td>id like to tell you about one such child</td>\n",
              "      <td>START_ मई आपको ऐसे ही एक बच्चे के बारे में बता...</td>\n",
              "    </tr>\n",
              "    <tr>\n",
              "      <th>4</th>\n",
              "      <td>what we really mean is that theyre bad at not ...</td>\n",
              "      <td>START_ हम ये नहीं कहना चाहते कि वो ध्यान नहीं ...</td>\n",
              "    </tr>\n",
              "    <tr>\n",
              "      <th>18</th>\n",
              "      <td>and who are we to say even that they are wrong</td>\n",
              "      <td>START_ और हम होते कौन हैं यह कहने भी वाले कि व...</td>\n",
              "    </tr>\n",
              "    <tr>\n",
              "      <th>29</th>\n",
              "      <td>so there is some sort of justice</td>\n",
              "      <td>START_ तो वहाँ न्याय है _END</td>\n",
              "    </tr>\n",
              "  </tbody>\n",
              "</table>\n",
              "</div>"
            ],
            "text/plain": [
              "                                              english  \\\n",
              "0   politicians do not have permission to do what ...   \n",
              "1            id like to tell you about one such child   \n",
              "4   what we really mean is that theyre bad at not ...   \n",
              "18     and who are we to say even that they are wrong   \n",
              "29                   so there is some sort of justice   \n",
              "\n",
              "                                                hindi  \n",
              "0   START_ राजनीतिज्ञों के पास जो कार्य करना चाहिए...  \n",
              "1   START_ मई आपको ऐसे ही एक बच्चे के बारे में बता...  \n",
              "4   START_ हम ये नहीं कहना चाहते कि वो ध्यान नहीं ...  \n",
              "18  START_ और हम होते कौन हैं यह कहने भी वाले कि व...  \n",
              "29                       START_ तो वहाँ न्याय है _END  "
            ]
          },
          "metadata": {
            "tags": []
          },
          "execution_count": 12
        }
      ]
    },
    {
      "cell_type": "code",
      "metadata": {
        "colab_type": "code",
        "id": "qBTMnxBV9At-",
        "outputId": "27a0d530-4ffb-491f-d5e0-b18db770fe22",
        "colab": {
          "base_uri": "https://localhost:8080/",
          "height": 35
        }
      },
      "source": [
        "len(dataset)"
      ],
      "execution_count": 0,
      "outputs": [
        {
          "output_type": "execute_result",
          "data": {
            "text/plain": [
              "38803"
            ]
          },
          "metadata": {
            "tags": []
          },
          "execution_count": 13
        }
      ]
    },
    {
      "cell_type": "code",
      "metadata": {
        "colab_type": "code",
        "id": "nvwTkrkQEMrq",
        "colab": {}
      },
      "source": [
        "### Get English and Hindi Vocabulary\n",
        "all_eng_words=set()\n",
        "for eng in dataset['english']:\n",
        "    for word in eng.split():\n",
        "        if word not in all_eng_words:\n",
        "            all_eng_words.add(word)\n",
        "\n",
        "all_hindi_words=set()\n",
        "for hin in dataset['hindi']:\n",
        "    for word in hin.split():\n",
        "        if word not in all_hindi_words:\n",
        "            all_hindi_words.add(word)"
      ],
      "execution_count": 0,
      "outputs": []
    },
    {
      "cell_type": "code",
      "metadata": {
        "colab_type": "code",
        "id": "l5F_BZbEEwIh",
        "outputId": "9b54e2ab-a71a-46dc-e45c-c4cc48d8205f",
        "colab": {
          "base_uri": "https://localhost:8080/",
          "height": 35
        }
      },
      "source": [
        "len(all_eng_words)"
      ],
      "execution_count": 0,
      "outputs": [
        {
          "output_type": "execute_result",
          "data": {
            "text/plain": [
              "17345"
            ]
          },
          "metadata": {
            "tags": []
          },
          "execution_count": 15
        }
      ]
    },
    {
      "cell_type": "code",
      "metadata": {
        "colab_type": "code",
        "id": "O3FBNwqBEzdl",
        "outputId": "78aaa80a-8bd4-418f-d33d-c2f7d05024fd",
        "colab": {
          "base_uri": "https://localhost:8080/",
          "height": 35
        }
      },
      "source": [
        "len(all_hindi_words)"
      ],
      "execution_count": 0,
      "outputs": [
        {
          "output_type": "execute_result",
          "data": {
            "text/plain": [
              "22285"
            ]
          },
          "metadata": {
            "tags": []
          },
          "execution_count": 16
        }
      ]
    },
    {
      "cell_type": "code",
      "metadata": {
        "colab_type": "code",
        "id": "HCc2Tk6BE8Bs",
        "colab": {}
      },
      "source": [
        "dataset['eng_len']=dataset['english'].apply(lambda x:len(x.split(\" \")))\n",
        "dataset['hin_len']=dataset['hindi'].apply(lambda x:len(x.split(\" \")))"
      ],
      "execution_count": 0,
      "outputs": []
    },
    {
      "cell_type": "code",
      "metadata": {
        "colab_type": "code",
        "id": "4fkP9WeGFMmZ",
        "outputId": "09b84002-48ec-42fb-bf7d-09cad7799275",
        "colab": {
          "base_uri": "https://localhost:8080/",
          "height": 202
        }
      },
      "source": [
        "dataset.head()"
      ],
      "execution_count": 0,
      "outputs": [
        {
          "output_type": "execute_result",
          "data": {
            "text/html": [
              "<div>\n",
              "<style scoped>\n",
              "    .dataframe tbody tr th:only-of-type {\n",
              "        vertical-align: middle;\n",
              "    }\n",
              "\n",
              "    .dataframe tbody tr th {\n",
              "        vertical-align: top;\n",
              "    }\n",
              "\n",
              "    .dataframe thead th {\n",
              "        text-align: right;\n",
              "    }\n",
              "</style>\n",
              "<table border=\"1\" class=\"dataframe\">\n",
              "  <thead>\n",
              "    <tr style=\"text-align: right;\">\n",
              "      <th></th>\n",
              "      <th>english</th>\n",
              "      <th>hindi</th>\n",
              "      <th>eng_len</th>\n",
              "      <th>hin_len</th>\n",
              "    </tr>\n",
              "  </thead>\n",
              "  <tbody>\n",
              "    <tr>\n",
              "      <th>0</th>\n",
              "      <td>politicians do not have permission to do what ...</td>\n",
              "      <td>START_ राजनीतिज्ञों के पास जो कार्य करना चाहिए...</td>\n",
              "      <td>12</td>\n",
              "      <td>16</td>\n",
              "    </tr>\n",
              "    <tr>\n",
              "      <th>1</th>\n",
              "      <td>id like to tell you about one such child</td>\n",
              "      <td>START_ मई आपको ऐसे ही एक बच्चे के बारे में बता...</td>\n",
              "      <td>9</td>\n",
              "      <td>13</td>\n",
              "    </tr>\n",
              "    <tr>\n",
              "      <th>4</th>\n",
              "      <td>what we really mean is that theyre bad at not ...</td>\n",
              "      <td>START_ हम ये नहीं कहना चाहते कि वो ध्यान नहीं ...</td>\n",
              "      <td>12</td>\n",
              "      <td>13</td>\n",
              "    </tr>\n",
              "    <tr>\n",
              "      <th>18</th>\n",
              "      <td>and who are we to say even that they are wrong</td>\n",
              "      <td>START_ और हम होते कौन हैं यह कहने भी वाले कि व...</td>\n",
              "      <td>11</td>\n",
              "      <td>15</td>\n",
              "    </tr>\n",
              "    <tr>\n",
              "      <th>29</th>\n",
              "      <td>so there is some sort of justice</td>\n",
              "      <td>START_ तो वहाँ न्याय है _END</td>\n",
              "      <td>7</td>\n",
              "      <td>6</td>\n",
              "    </tr>\n",
              "  </tbody>\n",
              "</table>\n",
              "</div>"
            ],
            "text/plain": [
              "                                              english  \\\n",
              "0   politicians do not have permission to do what ...   \n",
              "1            id like to tell you about one such child   \n",
              "4   what we really mean is that theyre bad at not ...   \n",
              "18     and who are we to say even that they are wrong   \n",
              "29                   so there is some sort of justice   \n",
              "\n",
              "                                                hindi  eng_len  hin_len  \n",
              "0   START_ राजनीतिज्ञों के पास जो कार्य करना चाहिए...       12       16  \n",
              "1   START_ मई आपको ऐसे ही एक बच्चे के बारे में बता...        9       13  \n",
              "4   START_ हम ये नहीं कहना चाहते कि वो ध्यान नहीं ...       12       13  \n",
              "18  START_ और हम होते कौन हैं यह कहने भी वाले कि व...       11       15  \n",
              "29                       START_ तो वहाँ न्याय है _END        7        6  "
            ]
          },
          "metadata": {
            "tags": []
          },
          "execution_count": 18
        }
      ]
    },
    {
      "cell_type": "code",
      "metadata": {
        "colab_type": "code",
        "id": "W_kTHeywFQY6",
        "outputId": "5565681e-f1be-489b-8e17-4aa57b731802",
        "colab": {
          "base_uri": "https://localhost:8080/",
          "height": 35
        }
      },
      "source": [
        "dataset[dataset['eng_len']>20].shape"
      ],
      "execution_count": 0,
      "outputs": [
        {
          "output_type": "execute_result",
          "data": {
            "text/plain": [
              "(1, 4)"
            ]
          },
          "metadata": {
            "tags": []
          },
          "execution_count": 19
        }
      ]
    },
    {
      "cell_type": "code",
      "metadata": {
        "colab_type": "code",
        "id": "8vNuFSdzFi-J",
        "colab": {}
      },
      "source": [
        "dataset=dataset[dataset['eng_len']<=10]\n",
        "dataset=dataset[dataset['hin_len']<=10]"
      ],
      "execution_count": 0,
      "outputs": []
    },
    {
      "cell_type": "code",
      "metadata": {
        "colab_type": "code",
        "id": "uj3jbvslF0_Q",
        "outputId": "fb229c60-41cf-4d5b-964a-7dc472d69d8c",
        "colab": {
          "base_uri": "https://localhost:8080/",
          "height": 202
        }
      },
      "source": [
        "dataset.head()"
      ],
      "execution_count": 0,
      "outputs": [
        {
          "output_type": "execute_result",
          "data": {
            "text/html": [
              "<div>\n",
              "<style scoped>\n",
              "    .dataframe tbody tr th:only-of-type {\n",
              "        vertical-align: middle;\n",
              "    }\n",
              "\n",
              "    .dataframe tbody tr th {\n",
              "        vertical-align: top;\n",
              "    }\n",
              "\n",
              "    .dataframe thead th {\n",
              "        text-align: right;\n",
              "    }\n",
              "</style>\n",
              "<table border=\"1\" class=\"dataframe\">\n",
              "  <thead>\n",
              "    <tr style=\"text-align: right;\">\n",
              "      <th></th>\n",
              "      <th>english</th>\n",
              "      <th>hindi</th>\n",
              "      <th>eng_len</th>\n",
              "      <th>hin_len</th>\n",
              "    </tr>\n",
              "  </thead>\n",
              "  <tbody>\n",
              "    <tr>\n",
              "      <th>29</th>\n",
              "      <td>so there is some sort of justice</td>\n",
              "      <td>START_ तो वहाँ न्याय है _END</td>\n",
              "      <td>7</td>\n",
              "      <td>6</td>\n",
              "    </tr>\n",
              "    <tr>\n",
              "      <th>43</th>\n",
              "      <td>this changed slowly</td>\n",
              "      <td>START_ धीरे धीरे ये सब बदला _END</td>\n",
              "      <td>3</td>\n",
              "      <td>7</td>\n",
              "    </tr>\n",
              "    <tr>\n",
              "      <th>53</th>\n",
              "      <td>were being produced</td>\n",
              "      <td>START_ उत्पन्न नहीं कि जाती थी _END</td>\n",
              "      <td>3</td>\n",
              "      <td>7</td>\n",
              "    </tr>\n",
              "    <tr>\n",
              "      <th>67</th>\n",
              "      <td>can you imagine saying that</td>\n",
              "      <td>START_ क्या आप ये कल्पना कर सकते है _END</td>\n",
              "      <td>5</td>\n",
              "      <td>9</td>\n",
              "    </tr>\n",
              "    <tr>\n",
              "      <th>73</th>\n",
              "      <td>whats going on”</td>\n",
              "      <td>START_ क्या हो रहा है ये” _END</td>\n",
              "      <td>3</td>\n",
              "      <td>7</td>\n",
              "    </tr>\n",
              "  </tbody>\n",
              "</table>\n",
              "</div>"
            ],
            "text/plain": [
              "                             english  \\\n",
              "29  so there is some sort of justice   \n",
              "43               this changed slowly   \n",
              "53               were being produced   \n",
              "67       can you imagine saying that   \n",
              "73                   whats going on”   \n",
              "\n",
              "                                       hindi  eng_len  hin_len  \n",
              "29              START_ तो वहाँ न्याय है _END        7        6  \n",
              "43          START_ धीरे धीरे ये सब बदला _END        3        7  \n",
              "53       START_ उत्पन्न नहीं कि जाती थी _END        3        7  \n",
              "67  START_ क्या आप ये कल्पना कर सकते है _END        5        9  \n",
              "73            START_ क्या हो रहा है ये” _END        3        7  "
            ]
          },
          "metadata": {
            "tags": []
          },
          "execution_count": 21
        }
      ]
    },
    {
      "cell_type": "code",
      "metadata": {
        "colab_type": "code",
        "id": "V1livDd1Fv6c",
        "outputId": "a2e191cb-e804-4e2a-84c7-1fe3c2d4729f",
        "colab": {
          "base_uri": "https://localhost:8080/",
          "height": 35
        }
      },
      "source": [
        "dataset.shape"
      ],
      "execution_count": 0,
      "outputs": [
        {
          "output_type": "execute_result",
          "data": {
            "text/plain": [
              "(20458, 4)"
            ]
          },
          "metadata": {
            "tags": []
          },
          "execution_count": 22
        }
      ]
    },
    {
      "cell_type": "code",
      "metadata": {
        "colab_type": "code",
        "id": "sYuRlWJGGAq_",
        "colab": {}
      },
      "source": [
        "max_length_src=max(dataset['hin_len'])\n",
        "max_length_tar=max(dataset['eng_len'])"
      ],
      "execution_count": 0,
      "outputs": []
    },
    {
      "cell_type": "code",
      "metadata": {
        "colab_type": "code",
        "id": "qd8XjlEzFzOp",
        "outputId": "964753f9-1b6a-4a5c-ce30-d9c45b42a054",
        "colab": {
          "base_uri": "https://localhost:8080/",
          "height": 52
        }
      },
      "source": [
        "print(\"maximum length of Hindi Sentence \", max_length_src)\n",
        "print(\"maximum length of English Sentence \", max_length_tar)"
      ],
      "execution_count": 0,
      "outputs": [
        {
          "output_type": "stream",
          "text": [
            "maximum length of Hindi Sentence  10\n",
            "maximum length of English Sentence  10\n"
          ],
          "name": "stdout"
        }
      ]
    },
    {
      "cell_type": "code",
      "metadata": {
        "colab_type": "code",
        "id": "BS34zBV-GQgu",
        "outputId": "7b4eab5c-a6b2-4b0a-d982-9f82f9c48b27",
        "colab": {
          "base_uri": "https://localhost:8080/",
          "height": 35
        }
      },
      "source": [
        "input_words = sorted(list(all_eng_words))\n",
        "target_words = sorted(list(all_hindi_words))\n",
        "num_encoder_tokens = len(all_eng_words)\n",
        "num_decoder_tokens = len(all_hindi_words)\n",
        "num_encoder_tokens, num_decoder_tokens"
      ],
      "execution_count": 0,
      "outputs": [
        {
          "output_type": "execute_result",
          "data": {
            "text/plain": [
              "(17345, 22285)"
            ]
          },
          "metadata": {
            "tags": []
          },
          "execution_count": 25
        }
      ]
    },
    {
      "cell_type": "code",
      "metadata": {
        "colab_type": "code",
        "id": "ndlnHmreGUNb",
        "colab": {}
      },
      "source": [
        "num_decoder_tokens += 1 #for zero padding"
      ],
      "execution_count": 0,
      "outputs": []
    },
    {
      "cell_type": "code",
      "metadata": {
        "colab_type": "code",
        "id": "6Fm6y-ZqGV77",
        "colab": {}
      },
      "source": [
        "input_token_index = dict([(word, i+1) for i, word in enumerate(input_words)])\n",
        "target_token_index = dict([(word, i+1) for i, word in enumerate(target_words)])"
      ],
      "execution_count": 0,
      "outputs": []
    },
    {
      "cell_type": "code",
      "metadata": {
        "colab_type": "code",
        "id": "8mOoe8IuGXZ2",
        "colab": {}
      },
      "source": [
        "reverse_input_char_index = dict((i, word) for word, i in input_token_index.items())\n",
        "reverse_target_char_index = dict((i, word) for word, i in target_token_index.items())"
      ],
      "execution_count": 0,
      "outputs": []
    },
    {
      "cell_type": "code",
      "metadata": {
        "colab_type": "code",
        "id": "oJhklmDUJFP1",
        "colab": {}
      },
      "source": [
        "dataset = dataset.sample(n=10000,random_state=42)"
      ],
      "execution_count": 0,
      "outputs": []
    },
    {
      "cell_type": "code",
      "metadata": {
        "colab_type": "code",
        "id": "LiF1F-AUGYqR",
        "colab": {}
      },
      "source": [
        "dataset = shuffle(dataset)"
      ],
      "execution_count": 0,
      "outputs": []
    },
    {
      "cell_type": "code",
      "metadata": {
        "colab_type": "code",
        "id": "uuPEmp17Ggby",
        "outputId": "fdb480e6-2bf4-4ee4-8795-5758dfbed228",
        "colab": {
          "base_uri": "https://localhost:8080/",
          "height": 202
        }
      },
      "source": [
        "dataset.head()"
      ],
      "execution_count": 0,
      "outputs": [
        {
          "output_type": "execute_result",
          "data": {
            "text/html": [
              "<div>\n",
              "<style scoped>\n",
              "    .dataframe tbody tr th:only-of-type {\n",
              "        vertical-align: middle;\n",
              "    }\n",
              "\n",
              "    .dataframe tbody tr th {\n",
              "        vertical-align: top;\n",
              "    }\n",
              "\n",
              "    .dataframe thead th {\n",
              "        text-align: right;\n",
              "    }\n",
              "</style>\n",
              "<table border=\"1\" class=\"dataframe\">\n",
              "  <thead>\n",
              "    <tr style=\"text-align: right;\">\n",
              "      <th></th>\n",
              "      <th>english</th>\n",
              "      <th>hindi</th>\n",
              "      <th>eng_len</th>\n",
              "      <th>hin_len</th>\n",
              "    </tr>\n",
              "  </thead>\n",
              "  <tbody>\n",
              "    <tr>\n",
              "      <th>145950</th>\n",
              "      <td>i had absolutely no idea</td>\n",
              "      <td>START_ मुझे बिल्कुल भी नहीं पता था _END</td>\n",
              "      <td>5</td>\n",
              "      <td>8</td>\n",
              "    </tr>\n",
              "    <tr>\n",
              "      <th>10731</th>\n",
              "      <td>completely noninvasive and silent</td>\n",
              "      <td>START_ बिलकुल शांत और गैर भेदी _END</td>\n",
              "      <td>4</td>\n",
              "      <td>7</td>\n",
              "    </tr>\n",
              "    <tr>\n",
              "      <th>135415</th>\n",
              "      <td>the good teachers for a lot of these kids</td>\n",
              "      <td>START_ काफ़ी सारे बच्चो के लिए अच्छे शिक्षक _END</td>\n",
              "      <td>9</td>\n",
              "      <td>9</td>\n",
              "    </tr>\n",
              "    <tr>\n",
              "      <th>148731</th>\n",
              "      <td>and then thats her over there</td>\n",
              "      <td>START_ वो वहाँ पर यह लड़की है _END</td>\n",
              "      <td>6</td>\n",
              "      <td>8</td>\n",
              "    </tr>\n",
              "    <tr>\n",
              "      <th>110716</th>\n",
              "      <td>he found the peak covered with countless flags</td>\n",
              "      <td>START_ तो उसने उसे अनगिनत झंडों से ढका पाया _END</td>\n",
              "      <td>8</td>\n",
              "      <td>10</td>\n",
              "    </tr>\n",
              "  </tbody>\n",
              "</table>\n",
              "</div>"
            ],
            "text/plain": [
              "                                               english  \\\n",
              "145950                        i had absolutely no idea   \n",
              "10731                completely noninvasive and silent   \n",
              "135415       the good teachers for a lot of these kids   \n",
              "148731                   and then thats her over there   \n",
              "110716  he found the peak covered with countless flags   \n",
              "\n",
              "                                                   hindi  eng_len  hin_len  \n",
              "145950           START_ मुझे बिल्कुल भी नहीं पता था _END        5        8  \n",
              "10731                START_ बिलकुल शांत और गैर भेदी _END        4        7  \n",
              "135415  START_ काफ़ी सारे बच्चो के लिए अच्छे शिक्षक _END        9        9  \n",
              "148731                START_ वो वहाँ पर यह लड़की है _END        6        8  \n",
              "110716  START_ तो उसने उसे अनगिनत झंडों से ढका पाया _END        8       10  "
            ]
          },
          "metadata": {
            "tags": []
          },
          "execution_count": 31
        }
      ]
    },
    {
      "cell_type": "code",
      "metadata": {
        "colab_type": "code",
        "id": "ZyXWRhyPGkdq",
        "outputId": "897bdafb-b8eb-4d24-b9f8-d434733815ca",
        "colab": {
          "base_uri": "https://localhost:8080/",
          "height": 35
        }
      },
      "source": [
        "X, y = dataset['english'], dataset['hindi']\n",
        "x_train, x_test, y_train, y_test = train_test_split(X, y, test_size = 0.2,random_state=42)\n",
        "x_train.shape, x_test.shape"
      ],
      "execution_count": 0,
      "outputs": [
        {
          "output_type": "execute_result",
          "data": {
            "text/plain": [
              "((8000,), (2000,))"
            ]
          },
          "metadata": {
            "tags": []
          },
          "execution_count": 32
        }
      ]
    },
    {
      "cell_type": "code",
      "metadata": {
        "colab_type": "code",
        "id": "5-S_mlivGtmZ",
        "colab": {}
      },
      "source": [
        "def generate_batch(X = x_train, y = y_train, batch_size = 128):\n",
        "    ''' Generate a batch of data '''\n",
        "    while True:\n",
        "        for j in range(0, len(X), batch_size):\n",
        "            encoder_input_data = np.zeros((batch_size, max_length_src),dtype='float32')\n",
        "            decoder_input_data = np.zeros((batch_size, max_length_tar),dtype='float32')\n",
        "            decoder_target_data = np.zeros((batch_size, max_length_tar, num_decoder_tokens),dtype='float32')\n",
        "            for i, (input_text, target_text) in enumerate(zip(X[j:j+batch_size], y[j:j+batch_size])):\n",
        "                for t, word in enumerate(input_text.split()):\n",
        "                    encoder_input_data[i, t] = input_token_index[word] # encoder input seq\n",
        "                for t, word in enumerate(target_text.split()):\n",
        "                    if t<len(target_text.split())-1:\n",
        "                        decoder_input_data[i, t] = target_token_index[word] # decoder input seq\n",
        "                    if t>0:\n",
        "                        decoder_target_data[i, t - 1, target_token_index[word]] = 1.\n",
        "            yield([encoder_input_data, decoder_input_data], decoder_target_data)"
      ],
      "execution_count": 0,
      "outputs": []
    },
    {
      "cell_type": "code",
      "metadata": {
        "colab_type": "code",
        "id": "MtbEyFgPGwr5",
        "colab": {}
      },
      "source": [
        "latent_dim=300"
      ],
      "execution_count": 0,
      "outputs": []
    },
    {
      "cell_type": "code",
      "metadata": {
        "colab_type": "code",
        "id": "yYrssuC-Gy64",
        "colab": {},
        "outputId": "6dc2bc8f-64fb-452d-feea-719ce08877fb"
      },
      "source": [
        "# Encoder\n",
        "encoder_inputs = Input(shape=(None,))\n",
        "enc_emb =  Embedding(num_encoder_tokens, latent_dim, mask_zero = True)(encoder_inputs)\n",
        "encoder_lstm = LSTM(latent_dim, return_state=True)\n",
        "encoder_outputs, state_h, state_c = encoder_lstm(enc_emb)\n",
        "encoder_states = [state_h, state_c]"
      ],
      "execution_count": 0,
      "outputs": [
        {
          "output_type": "stream",
          "text": [
            "WARNING:tensorflow:From /usr/local/lib/python3.5/dist-packages/tensorflow_core/python/ops/resource_variable_ops.py:1630: calling BaseResourceVariable.__init__ (from tensorflow.python.ops.resource_variable_ops) with constraint is deprecated and will be removed in a future version.\n",
            "Instructions for updating:\n",
            "If using Keras pass *_constraint arguments to layers.\n",
            "WARNING:tensorflow:From /usr/local/lib/python3.5/dist-packages/tensorflow_core/python/keras/backend.py:3994: where (from tensorflow.python.ops.array_ops) is deprecated and will be removed in a future version.\n",
            "Instructions for updating:\n",
            "Use tf.where in 2.0, which has the same broadcast rule as np.where\n"
          ],
          "name": "stdout"
        }
      ]
    },
    {
      "cell_type": "code",
      "metadata": {
        "colab_type": "code",
        "id": "1Hqa6n9lG0Xl",
        "colab": {}
      },
      "source": [
        "decoder_inputs = Input(shape=(None,))\n",
        "dec_emb_layer = Embedding(num_decoder_tokens, latent_dim, mask_zero = True)\n",
        "dec_emb = dec_emb_layer(decoder_inputs)\n",
        "\n",
        "decoder_lstm = LSTM(latent_dim, return_sequences=True, return_state=True)\n",
        "decoder_outputs, _, _ = decoder_lstm(dec_emb,\n",
        "                                     initial_state=encoder_states)\n",
        "decoder_dense = Dense(num_decoder_tokens, activation='softmax')\n",
        "decoder_outputs = decoder_dense(decoder_outputs)\n",
        "\n",
        "\n",
        "model = Model([encoder_inputs, decoder_inputs], decoder_outputs)"
      ],
      "execution_count": 0,
      "outputs": []
    },
    {
      "cell_type": "code",
      "metadata": {
        "colab_type": "code",
        "id": "itovOyOwG2_6",
        "colab": {}
      },
      "source": [
        "model.compile(optimizer='rmsprop', loss='categorical_crossentropy')"
      ],
      "execution_count": 0,
      "outputs": []
    },
    {
      "cell_type": "code",
      "metadata": {
        "colab_type": "code",
        "id": "gRhaSE29G4lF",
        "outputId": "5f0b5ba1-7287-41c7-88ec-4fec69ad678c",
        "colab": {
          "base_uri": "https://localhost:8080/",
          "height": 433
        }
      },
      "source": [
        "model.summary()"
      ],
      "execution_count": 0,
      "outputs": [
        {
          "output_type": "stream",
          "text": [
            "Model: \"model_3\"\n",
            "__________________________________________________________________________________________________\n",
            "Layer (type)                    Output Shape         Param #     Connected to                     \n",
            "==================================================================================================\n",
            "input_1 (InputLayer)            (None, None)         0                                            \n",
            "__________________________________________________________________________________________________\n",
            "input_4 (InputLayer)            (None, None)         0                                            \n",
            "__________________________________________________________________________________________________\n",
            "embedding_1 (Embedding)         (None, None, 300)    5203500     input_1[0][0]                    \n",
            "__________________________________________________________________________________________________\n",
            "embedding_4 (Embedding)         (None, None, 300)    6685800     input_4[0][0]                    \n",
            "__________________________________________________________________________________________________\n",
            "lstm_1 (LSTM)                   [(None, 300), (None, 721200      embedding_1[0][0]                \n",
            "__________________________________________________________________________________________________\n",
            "lstm_4 (LSTM)                   [(None, None, 300),  721200      embedding_4[0][0]                \n",
            "                                                                 lstm_1[0][1]                     \n",
            "                                                                 lstm_1[0][2]                     \n",
            "__________________________________________________________________________________________________\n",
            "dense_3 (Dense)                 (None, None, 22286)  6708086     lstm_4[0][0]                     \n",
            "==================================================================================================\n",
            "Total params: 20,039,786\n",
            "Trainable params: 20,039,786\n",
            "Non-trainable params: 0\n",
            "__________________________________________________________________________________________________\n"
          ],
          "name": "stdout"
        }
      ]
    },
    {
      "cell_type": "code",
      "metadata": {
        "colab_type": "code",
        "id": "lIhQ7B-_HNBk",
        "outputId": "ef9ef8aa-6c95-4b93-ec08-cf3b1135d763",
        "colab": {
          "base_uri": "https://localhost:8080/",
          "height": 466
        }
      },
      "source": [
        "from keras.utils import plot_model\n",
        "plot_model(model, 'model.png')"
      ],
      "execution_count": 0,
      "outputs": [
        {
          "output_type": "execute_result",
          "data": {
            "image/png": "[encoded data removed]",
            "text/plain": [
              "<IPython.core.display.Image object>"
            ]
          },
          "metadata": {
            "tags": []
          },
          "execution_count": 57
        }
      ]
    },
    {
      "cell_type": "code",
      "metadata": {
        "colab_type": "code",
        "id": "V1YYSOKCG5vk",
        "colab": {}
      },
      "source": [
        "train_samples = len(x_train)\n",
        "val_samples = len(x_test)\n",
        "batch_size = 128\n",
        "epochs = 100"
      ],
      "execution_count": 0,
      "outputs": []
    },
    {
      "cell_type": "code",
      "metadata": {
        "colab_type": "code",
        "id": "BEyEtxohJ8cR",
        "outputId": "4ae872b8-8cc1-4d37-d880-0f680ff6eb43",
        "colab": {
          "base_uri": "https://localhost:8080/",
          "height": 35
        }
      },
      "source": [
        "train_samples//batch_size"
      ],
      "execution_count": 0,
      "outputs": [
        {
          "output_type": "execute_result",
          "data": {
            "text/plain": [
              "62"
            ]
          },
          "metadata": {
            "tags": []
          },
          "execution_count": 59
        }
      ]
    },
    {
      "cell_type": "code",
      "metadata": {
        "colab_type": "code",
        "id": "dJQ3BhaGG7Lh",
        "outputId": "f7ae69ca-3863-49e8-a523-53dd0ad2b5ea",
        "colab": {
          "base_uri": "https://localhost:8080/",
          "height": 433
        }
      },
      "source": [
        "model_history = model.fit_generator(generator = generate_batch(x_train, y_train, batch_size = batch_size),\n",
        "                    steps_per_epoch = train_samples//batch_size,\n",
        "                    epochs=epochs,\n",
        "                    validation_data = generate_batch(x_test, y_test, batch_size = batch_size),\n",
        "                    validation_steps = val_samples//batch_size)\n",
        "\n",
        "model.save_weights('nmt_weights.h5')"
      ],
      "execution_count": 0,
      "outputs": [
        {
          "output_type": "stream",
          "text": [
            "Epoch 1/100\n",
            "62/62 [==============================] - 16s 266ms/step - loss: 4.4395 - val_loss: 4.0840\n",
            "Epoch 2/100\n",
            "62/62 [==============================] - 15s 249ms/step - loss: 3.7100 - val_loss: 4.0674\n",
            "Epoch 3/100\n",
            "62/62 [==============================] - 15s 249ms/step - loss: 3.4268 - val_loss: 4.1693\n",
            "Epoch 4/100\n",
            "62/62 [==============================] - 15s 248ms/step - loss: 3.2088 - val_loss: 4.1563\n",
            "Epoch 5/100\n",
            "62/62 [==============================] - 15s 249ms/step - loss: 3.0291 - val_loss: 3.9767\n",
            "Epoch 6/100\n",
            "62/62 [==============================] - 15s 248ms/step - loss: 2.8644 - val_loss: 4.0457\n",
            "Epoch 7/100\n",
            "62/62 [==============================] - 15s 249ms/step - loss: 2.7158 - val_loss: 4.0616\n",
            "Epoch 8/100\n",
            "62/62 [==============================] - 15s 248ms/step - loss: 2.5764 - val_loss: 4.0518\n",
            "Epoch 9/100\n",
            "62/62 [==============================] - 16s 250ms/step - loss: 2.4469 - val_loss: 3.6593\n",
            "Epoch 10/100\n",
            "62/62 [==============================] - 15s 249ms/step - loss: 2.3217 - val_loss: 3.9412\n",
            "Epoch 11/100\n",
            "62/62 [==============================] - 15s 248ms/step - loss: 2.2026 - val_loss: 3.9808\n",
            "Epoch 12/100\n",
            "62/62 [==============================] - 15s 249ms/step - loss: 2.0842 - val_loss: 3.9513\n",
            "Epoch 13/100\n",
            "62/62 [==============================] - 15s 248ms/step - loss: 1.9709 - val_loss: 4.0660\n",
            "Epoch 14/100\n",
            "62/62 [==============================] - 15s 249ms/step - loss: 1.8592 - val_loss: 4.0023\n",
            "Epoch 15/100\n",
            "62/62 [==============================] - 15s 250ms/step - loss: 1.7541 - val_loss: 4.2968\n",
            "Epoch 16/100\n",
            "62/62 [==============================] - 15s 249ms/step - loss: 1.6464 - val_loss: 2.5258\n",
            "Epoch 17/100\n",
            "62/62 [==============================] - 15s 249ms/step - loss: 1.5470 - val_loss: 4.1014\n",
            "Epoch 18/100\n",
            "62/62 [==============================] - 15s 248ms/step - loss: 1.4476 - val_loss: 4.1682\n",
            "Epoch 19/100\n",
            "62/62 [==============================] - 15s 248ms/step - loss: 1.3502 - val_loss: 4.3389\n",
            "Epoch 20/100\n",
            "62/62 [==============================] - 15s 250ms/step - loss: 1.2574 - val_loss: 4.3678\n",
            "Epoch 21/100\n",
            "62/62 [==============================] - 15s 249ms/step - loss: 1.1677 - val_loss: 4.3022\n",
            "Epoch 22/100\n",
            "62/62 [==============================] - 15s 249ms/step - loss: 1.0809 - val_loss: 4.3899\n",
            "Epoch 23/100\n",
            "62/62 [==============================] - 15s 249ms/step - loss: 0.9972 - val_loss: 4.3760\n",
            "Epoch 24/100\n",
            "62/62 [==============================] - 16s 251ms/step - loss: 0.9192 - val_loss: 4.4161\n",
            "Epoch 25/100\n",
            "62/62 [==============================] - 16s 251ms/step - loss: 0.8436 - val_loss: 4.0792\n",
            "Epoch 26/100\n",
            "62/62 [==============================] - 16s 251ms/step - loss: 0.7731 - val_loss: 4.3239\n",
            "Epoch 27/100\n",
            "62/62 [==============================] - 16s 251ms/step - loss: 0.7037 - val_loss: 4.4198\n",
            "Epoch 28/100\n",
            "62/62 [==============================] - 16s 251ms/step - loss: 0.6429 - val_loss: 4.3368\n",
            "Epoch 29/100\n",
            "62/62 [==============================] - 15s 250ms/step - loss: 0.5842 - val_loss: 4.4906\n",
            "Epoch 30/100\n",
            "62/62 [==============================] - 16s 251ms/step - loss: 0.5284 - val_loss: 4.4567\n",
            "Epoch 31/100\n",
            "62/62 [==============================] - 16s 250ms/step - loss: 0.4749 - val_loss: 4.8254\n",
            "Epoch 32/100\n",
            "62/62 [==============================] - 16s 250ms/step - loss: 0.4301 - val_loss: 2.8413\n",
            "Epoch 33/100\n",
            "62/62 [==============================] - 16s 251ms/step - loss: 0.3864 - val_loss: 4.5888\n",
            "Epoch 34/100\n",
            "62/62 [==============================] - 16s 250ms/step - loss: 0.3477 - val_loss: 4.5782\n",
            "Epoch 35/100\n",
            "62/62 [==============================] - 16s 253ms/step - loss: 0.3106 - val_loss: 4.8951\n",
            "Epoch 36/100\n",
            "62/62 [==============================] - 16s 251ms/step - loss: 0.2779 - val_loss: 4.8807\n",
            "Epoch 37/100\n",
            "62/62 [==============================] - 16s 251ms/step - loss: 0.2469 - val_loss: 4.7946\n",
            "Epoch 38/100\n",
            "62/62 [==============================] - 16s 252ms/step - loss: 0.2203 - val_loss: 4.8463\n",
            "Epoch 39/100\n",
            "62/62 [==============================] - 16s 251ms/step - loss: 0.1967 - val_loss: 4.9518\n",
            "Epoch 40/100\n",
            "62/62 [==============================] - 16s 251ms/step - loss: 0.1729 - val_loss: 4.9295\n",
            "Epoch 41/100\n",
            "62/62 [==============================] - 16s 252ms/step - loss: 0.1547 - val_loss: 4.5331\n",
            "Epoch 42/100\n",
            "62/62 [==============================] - 16s 251ms/step - loss: 0.1369 - val_loss: 4.8129\n",
            "Epoch 43/100\n",
            "62/62 [==============================] - 16s 251ms/step - loss: 0.1212 - val_loss: 4.9346\n",
            "Epoch 44/100\n",
            "62/62 [==============================] - 16s 251ms/step - loss: 0.1097 - val_loss: 4.8640\n",
            "Epoch 45/100\n",
            "62/62 [==============================] - 16s 251ms/step - loss: 0.0958 - val_loss: 4.9976\n",
            "Epoch 46/100\n",
            "62/62 [==============================] - 15s 250ms/step - loss: 0.0865 - val_loss: 5.0198\n",
            "Epoch 47/100\n",
            "62/62 [==============================] - 16s 252ms/step - loss: 0.0769 - val_loss: 5.3968\n",
            "Epoch 48/100\n",
            "62/62 [==============================] - 16s 251ms/step - loss: 0.0683 - val_loss: 3.1572\n",
            "Epoch 49/100\n",
            "62/62 [==============================] - 16s 251ms/step - loss: 0.0611 - val_loss: 5.0471\n",
            "Epoch 50/100\n",
            "62/62 [==============================] - 16s 250ms/step - loss: 0.0547 - val_loss: 5.0676\n",
            "Epoch 51/100\n",
            "62/62 [==============================] - 16s 251ms/step - loss: 0.0490 - val_loss: 5.4671\n",
            "Epoch 52/100\n",
            "62/62 [==============================] - 15s 250ms/step - loss: 0.0451 - val_loss: 5.4096\n",
            "Epoch 53/100\n",
            "62/62 [==============================] - 16s 251ms/step - loss: 0.0405 - val_loss: 5.3298\n",
            "Epoch 54/100\n",
            "62/62 [==============================] - 16s 251ms/step - loss: 0.0381 - val_loss: 5.3435\n",
            "Epoch 55/100\n",
            "62/62 [==============================] - 16s 252ms/step - loss: 0.0349 - val_loss: 5.3757\n",
            "Epoch 56/100\n",
            "62/62 [==============================] - 16s 251ms/step - loss: 0.0308 - val_loss: 5.4109\n",
            "Epoch 57/100\n",
            "62/62 [==============================] - 15s 250ms/step - loss: 0.0291 - val_loss: 4.9371\n",
            "Epoch 58/100\n",
            "62/62 [==============================] - 16s 252ms/step - loss: 0.0272 - val_loss: 5.1975\n",
            "Epoch 59/100\n",
            "62/62 [==============================] - 16s 251ms/step - loss: 0.0242 - val_loss: 5.3219\n",
            "Epoch 60/100\n",
            "62/62 [==============================] - 15s 250ms/step - loss: 0.0233 - val_loss: 5.3203\n",
            "Epoch 61/100\n",
            "62/62 [==============================] - 16s 251ms/step - loss: 0.0210 - val_loss: 5.3602\n",
            "Epoch 62/100\n",
            "62/62 [==============================] - 16s 251ms/step - loss: 0.0197 - val_loss: 5.4270\n",
            "Epoch 63/100\n",
            "62/62 [==============================] - 16s 250ms/step - loss: 0.0194 - val_loss: 5.7620\n",
            "Epoch 64/100\n",
            "62/62 [==============================] - 16s 251ms/step - loss: 0.0179 - val_loss: 3.3166\n",
            "Epoch 65/100\n",
            "62/62 [==============================] - 15s 250ms/step - loss: 0.0162 - val_loss: 5.3938\n",
            "Epoch 66/100\n",
            "62/62 [==============================] - 15s 250ms/step - loss: 0.0159 - val_loss: 5.3899\n",
            "Epoch 67/100\n",
            "62/62 [==============================] - 16s 251ms/step - loss: 0.0165 - val_loss: 5.7871\n",
            "Epoch 68/100\n",
            "62/62 [==============================] - 16s 251ms/step - loss: 0.0141 - val_loss: 5.6478\n",
            "Epoch 69/100\n",
            "62/62 [==============================] - 15s 250ms/step - loss: 0.0150 - val_loss: 5.5919\n",
            "Epoch 70/100\n",
            "62/62 [==============================] - 16s 250ms/step - loss: 0.0136 - val_loss: 5.7141\n",
            "Epoch 71/100\n",
            "62/62 [==============================] - 16s 252ms/step - loss: 0.0124 - val_loss: 5.7783\n",
            "Epoch 72/100\n",
            "62/62 [==============================] - 16s 252ms/step - loss: 0.0122 - val_loss: 5.7124\n",
            "Epoch 73/100\n",
            "62/62 [==============================] - 15s 250ms/step - loss: 0.0120 - val_loss: 5.2593\n",
            "Epoch 74/100\n",
            "62/62 [==============================] - 16s 252ms/step - loss: 0.0124 - val_loss: 5.4135\n",
            "Epoch 75/100\n",
            "62/62 [==============================] - 16s 251ms/step - loss: 0.0112 - val_loss: 5.5788\n",
            "Epoch 76/100\n",
            "62/62 [==============================] - 16s 251ms/step - loss: 0.0106 - val_loss: 5.5938\n",
            "Epoch 77/100\n",
            "62/62 [==============================] - 16s 250ms/step - loss: 0.0100 - val_loss: 5.6286\n",
            "Epoch 78/100\n",
            "62/62 [==============================] - 16s 250ms/step - loss: 0.0110 - val_loss: 5.5773\n",
            "Epoch 79/100\n",
            "62/62 [==============================] - 16s 251ms/step - loss: 0.0096 - val_loss: 5.9702\n",
            "Epoch 80/100\n"
          ],
          "name": "stdout"
        },
        {
          "output_type": "stream",
          "text": [
            "62/62 [==============================] - 16s 250ms/step - loss: 0.0096 - val_loss: 3.4630\n",
            "Epoch 81/100\n",
            "62/62 [==============================] - 15s 250ms/step - loss: 0.0100 - val_loss: 5.5925\n",
            "Epoch 82/100\n",
            "62/62 [==============================] - 16s 251ms/step - loss: 0.0090 - val_loss: 5.5791\n",
            "Epoch 83/100\n",
            "62/62 [==============================] - 16s 251ms/step - loss: 0.0083 - val_loss: 6.0419\n",
            "Epoch 84/100\n",
            "62/62 [==============================] - 16s 251ms/step - loss: 0.0085 - val_loss: 5.9072\n",
            "Epoch 85/100\n",
            "62/62 [==============================] - 16s 251ms/step - loss: 0.0091 - val_loss: 5.7826\n",
            "Epoch 86/100\n",
            "62/62 [==============================] - 16s 251ms/step - loss: 0.0087 - val_loss: 5.8289\n",
            "Epoch 87/100\n",
            "62/62 [==============================] - 16s 250ms/step - loss: 0.0082 - val_loss: 5.9603\n",
            "Epoch 88/100\n",
            "62/62 [==============================] - 16s 252ms/step - loss: 0.0089 - val_loss: 5.9323\n",
            "Epoch 89/100\n",
            "62/62 [==============================] - 16s 250ms/step - loss: 0.0080 - val_loss: 5.4109\n",
            "Epoch 90/100\n",
            "62/62 [==============================] - 16s 250ms/step - loss: 0.0075 - val_loss: 5.6109\n",
            "Epoch 91/100\n",
            "62/62 [==============================] - 16s 251ms/step - loss: 0.0076 - val_loss: 5.8131\n",
            "Epoch 92/100\n",
            "62/62 [==============================] - 15s 250ms/step - loss: 0.0079 - val_loss: 5.7855\n",
            "Epoch 93/100\n",
            "62/62 [==============================] - 16s 251ms/step - loss: 0.0077 - val_loss: 5.8138\n",
            "Epoch 94/100\n",
            "62/62 [==============================] - 15s 249ms/step - loss: 0.0075 - val_loss: 5.7704\n",
            "Epoch 95/100\n",
            "62/62 [==============================] - 16s 252ms/step - loss: 0.0076 - val_loss: 6.1455\n",
            "Epoch 96/100\n",
            "62/62 [==============================] - 15s 250ms/step - loss: 0.0073 - val_loss: 3.5857\n",
            "Epoch 97/100\n",
            "62/62 [==============================] - 16s 250ms/step - loss: 0.0069 - val_loss: 5.7850\n",
            "Epoch 98/100\n",
            "62/62 [==============================] - 16s 251ms/step - loss: 0.0075 - val_loss: 5.7569\n",
            "Epoch 99/100\n",
            "62/62 [==============================] - 16s 251ms/step - loss: 0.0075 - val_loss: 6.2017\n",
            "Epoch 100/100\n",
            "62/62 [==============================] - 16s 251ms/step - loss: 0.0072 - val_loss: 6.0902\n"
          ],
          "name": "stdout"
        }
      ]
    },
    {
      "cell_type": "code",
      "metadata": {
        "colab_type": "code",
        "id": "of-zcet0G8OV",
        "colab": {}
      },
      "source": [
        "\n",
        "encoder_model = Model(encoder_inputs, encoder_states)\n",
        "\n",
        "\n",
        "decoder_state_input_h = Input(shape=(latent_dim,))\n",
        "decoder_state_input_c = Input(shape=(latent_dim,))\n",
        "decoder_states_inputs = [decoder_state_input_h, decoder_state_input_c]\n",
        "\n",
        "dec_emb2= dec_emb_layer(decoder_inputs) \n",
        "\n",
        "\n",
        "decoder_outputs2, state_h2, state_c2 = decoder_lstm(dec_emb2, initial_state=decoder_states_inputs)\n",
        "decoder_states2 = [state_h2, state_c2]\n",
        "decoder_outputs2 = decoder_dense(decoder_outputs2) \n",
        "\n",
        "decoder_model = Model(\n",
        "    [decoder_inputs] + decoder_states_inputs,\n",
        "    [decoder_outputs2] + decoder_states2)\n"
      ],
      "execution_count": 0,
      "outputs": []
    },
    {
      "cell_type": "code",
      "metadata": {
        "colab_type": "code",
        "id": "h3XQBSfpHAiM",
        "colab": {}
      },
      "source": [
        "def decode_sequence(input_seq):\n",
        "    states_value = encoder_model.predict(input_seq)\n",
        "    target_seq = np.zeros((1,1))\n",
        "    target_seq[0, 0] = target_token_index['START_']\n",
        "\n",
        "    stop_condition = False\n",
        "    decoded_sentence = ''\n",
        "    while not stop_condition:\n",
        "        output_tokens, h, c = decoder_model.predict([target_seq] + states_value)\n",
        "\n",
        "        sampled_token_index = np.argmax(output_tokens[0, -1, :])\n",
        "        sampled_char = reverse_target_char_index[sampled_token_index]\n",
        "        decoded_sentence += ' '+sampled_char\n",
        "\n",
        "        if (sampled_char == '_END' or\n",
        "           len(decoded_sentence) > 50):\n",
        "            stop_condition = True\n",
        "\n",
        "        target_seq = np.zeros((1,1))index\n",
        "\n",
        "        states_value = [h, c]\n",
        "\n",
        "    return decoded_sentence"
      ],
      "execution_count": 0,
      "outputs": []
    },
    {
      "cell_type": "code",
      "metadata": {
        "colab_type": "code",
        "id": "JeIVGLxaHCLc",
        "colab": {}
      },
      "source": [
        "train_gen = generate_batch(x_train, y_train, batch_size = 1)\n",
        "k=-1"
      ],
      "execution_count": 0,
      "outputs": []
    },
    {
      "cell_type": "code",
      "metadata": {
        "colab_type": "code",
        "id": "IXOIKEIhHEiJ",
        "colab": {},
        "outputId": "1118f6b8-3ca4-4e11-c5d3-f080d491a66b"
      },
      "source": [
        "k+=1\n",
        "(input_seq, actual_output), _ = next(train_gen)\n",
        "decoded_sentence = decode_sequence(input_seq)\n",
        "print('Input English sentence:', x_train[k:k+1].values[0])\n",
        "print('Actual Hindi Translation:', y_train[k:k+1].values[0][6:-4])\n",
        "print('Predicted Hindi Translation:', decoded_sentence[:-4])"
      ],
      "execution_count": 0,
      "outputs": [
        {
          "output_type": "stream",
          "text": [
            "Input English sentence: than most of us have been led to believe\n",
            "Actual Hindi Translation:  उससे काफी ज़्यादा सूक्ष्म है \n",
            "Predicted Hindi Translation:  उससे काफी ज़्यादा सूक्ष्म है \n"
          ],
          "name": "stdout"
        }
      ]
    },
    {
      "cell_type": "code",
      "metadata": {
        "id": "FEjdLkCNe0bS",
        "colab_type": "code",
        "colab": {}
      },
      "source": [
        "test_gen = generate_batch(x_test, y_test, batch_size = 1)\n",
        "k=-1"
      ],
      "execution_count": 0,
      "outputs": []
    },
    {
      "cell_type": "code",
      "metadata": {
        "id": "PB6ixOLle0bV",
        "colab_type": "code",
        "colab": {}
      },
      "source": [
        ""
      ],
      "execution_count": 0,
      "outputs": []
    },
    {
      "cell_type": "code",
      "metadata": {
        "id": "MaQ7ldFde0bX",
        "colab_type": "code",
        "colab": {}
      },
      "source": [
        ""
      ],
      "execution_count": 0,
      "outputs": []
    }
  ]
}